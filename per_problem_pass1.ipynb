{
 "cells": [
  {
   "attachments": {},
   "cell_type": "markdown",
   "metadata": {},
   "source": [
    "# Per Problem Pass@1\n",
    "\n",
    "This file computes per problem pass@1 for the regression analysis."
   ]
  },
  {
   "cell_type": "code",
   "execution_count": 1,
   "metadata": {},
   "outputs": [],
   "source": [
    "import pandas as pd\n",
    "from util import passk\n",
    "import numpy as np\n",
    "import csv"
   ]
  },
  {
   "cell_type": "code",
   "execution_count": 2,
   "metadata": {},
   "outputs": [
    {
     "data": {
      "text/html": [
       "<div>\n",
       "<style scoped>\n",
       "    .dataframe tbody tr th:only-of-type {\n",
       "        vertical-align: middle;\n",
       "    }\n",
       "\n",
       "    .dataframe tbody tr th {\n",
       "        vertical-align: top;\n",
       "    }\n",
       "\n",
       "    .dataframe thead th {\n",
       "        text-align: right;\n",
       "    }\n",
       "</style>\n",
       "<table border=\"1\" class=\"dataframe\">\n",
       "  <thead>\n",
       "    <tr style=\"text-align: right;\">\n",
       "      <th></th>\n",
       "      <th>problem</th>\n",
       "      <th>prompt</th>\n",
       "      <th>count</th>\n",
       "      <th>exit_code</th>\n",
       "    </tr>\n",
       "  </thead>\n",
       "  <tbody>\n",
       "    <tr>\n",
       "      <th>0</th>\n",
       "      <td>add_up</td>\n",
       "      <td>def add_up(arr):\\n    \"\"\"\\n    \"add all the do...</td>\n",
       "      <td>35</td>\n",
       "      <td>1</td>\n",
       "    </tr>\n",
       "    <tr>\n",
       "      <th>1</th>\n",
       "      <td>add_up</td>\n",
       "      <td>def add_up(arr):\\n    \"\"\"\\n    \"add all the do...</td>\n",
       "      <td>46</td>\n",
       "      <td>1</td>\n",
       "    </tr>\n",
       "    <tr>\n",
       "      <th>2</th>\n",
       "      <td>add_up</td>\n",
       "      <td>def add_up(arr):\\n    \"\"\"\\n    \"add all the do...</td>\n",
       "      <td>46</td>\n",
       "      <td>1</td>\n",
       "    </tr>\n",
       "    <tr>\n",
       "      <th>3</th>\n",
       "      <td>add_up</td>\n",
       "      <td>def add_up(arr):\\n    \"\"\"\\n    \"add all the do...</td>\n",
       "      <td>36</td>\n",
       "      <td>1</td>\n",
       "    </tr>\n",
       "    <tr>\n",
       "      <th>4</th>\n",
       "      <td>add_up</td>\n",
       "      <td>def add_up(arr):\\n    \"\"\"\\n    \"add all the do...</td>\n",
       "      <td>10</td>\n",
       "      <td>1</td>\n",
       "    </tr>\n",
       "  </tbody>\n",
       "</table>\n",
       "</div>"
      ],
      "text/plain": [
       "  problem                                             prompt  count  exit_code\n",
       "0  add_up  def add_up(arr):\\n    \"\"\"\\n    \"add all the do...     35          1\n",
       "1  add_up  def add_up(arr):\\n    \"\"\"\\n    \"add all the do...     46          1\n",
       "2  add_up  def add_up(arr):\\n    \"\"\"\\n    \"add all the do...     46          1\n",
       "3  add_up  def add_up(arr):\\n    \"\"\"\\n    \"add all the do...     36          1\n",
       "4  add_up  def add_up(arr):\\n    \"\"\"\\n    \"add all the do...     10          1"
      ]
     },
     "execution_count": 2,
     "metadata": {},
     "output_type": "execute_result"
    }
   ],
   "source": [
    "raw_df = pd.read_csv(\"../computed_data/executions_starcoderbase.csv\", index_col=0)\n",
    "raw_df.head()\n"
   ]
  },
  {
   "attachments": {},
   "cell_type": "markdown",
   "metadata": {},
   "source": [
    "The code below is based on `compute_pass1.ipynb`."
   ]
  },
  {
   "cell_type": "code",
   "execution_count": 3,
   "metadata": {},
   "outputs": [
    {
     "data": {
      "text/html": [
       "<div>\n",
       "<style scoped>\n",
       "    .dataframe tbody tr th:only-of-type {\n",
       "        vertical-align: middle;\n",
       "    }\n",
       "\n",
       "    .dataframe tbody tr th {\n",
       "        vertical-align: top;\n",
       "    }\n",
       "\n",
       "    .dataframe thead th {\n",
       "        text-align: right;\n",
       "    }\n",
       "</style>\n",
       "<table border=\"1\" class=\"dataframe\">\n",
       "  <thead>\n",
       "    <tr style=\"text-align: right;\">\n",
       "      <th></th>\n",
       "      <th>problem</th>\n",
       "      <th>prompt</th>\n",
       "      <th>pass1</th>\n",
       "    </tr>\n",
       "  </thead>\n",
       "  <tbody>\n",
       "    <tr>\n",
       "      <th>0</th>\n",
       "      <td>add_int</td>\n",
       "      <td>def add_int(lst, num):\\n    \"\"\"\\n    Append th...</td>\n",
       "      <td>0.050</td>\n",
       "    </tr>\n",
       "    <tr>\n",
       "      <th>1</th>\n",
       "      <td>add_int</td>\n",
       "      <td>def add_int(lst, num):\\n    \"\"\"\\n    Create a ...</td>\n",
       "      <td>0.725</td>\n",
       "    </tr>\n",
       "    <tr>\n",
       "      <th>2</th>\n",
       "      <td>add_int</td>\n",
       "      <td>def add_int(lst, num):\\n    \"\"\"\\n    For each ...</td>\n",
       "      <td>0.375</td>\n",
       "    </tr>\n",
       "    <tr>\n",
       "      <th>3</th>\n",
       "      <td>add_int</td>\n",
       "      <td>def add_int(lst, num):\\n    \"\"\"\\n    Given a l...</td>\n",
       "      <td>0.020</td>\n",
       "    </tr>\n",
       "    <tr>\n",
       "      <th>4</th>\n",
       "      <td>add_int</td>\n",
       "      <td>def add_int(lst, num):\\n    \"\"\"\\n    Given a l...</td>\n",
       "      <td>0.070</td>\n",
       "    </tr>\n",
       "  </tbody>\n",
       "</table>\n",
       "</div>"
      ],
      "text/plain": [
       "   problem                                             prompt  pass1\n",
       "0  add_int  def add_int(lst, num):\\n    \"\"\"\\n    Append th...  0.050\n",
       "1  add_int  def add_int(lst, num):\\n    \"\"\"\\n    Create a ...  0.725\n",
       "2  add_int  def add_int(lst, num):\\n    \"\"\"\\n    For each ...  0.375\n",
       "3  add_int  def add_int(lst, num):\\n    \"\"\"\\n    Given a l...  0.020\n",
       "4  add_int  def add_int(lst, num):\\n    \"\"\"\\n    Given a l...  0.070"
      ]
     },
     "execution_count": 3,
     "metadata": {},
     "output_type": "execute_result"
    }
   ],
   "source": [
    "df = raw_df.copy()\n",
    "# The success_count is zero if the exit_code is non-zero and df[\"count\"] when it is zero.\n",
    "df[\"success_count\"] = raw_df.apply(lambda row: row[\"count\"] if row[\"exit_code\"] == 0 else 0, axis=1)\n",
    "# We are adding the c and n arguments for the estimator. n really should be either 20 or 200.\n",
    "df = df.groupby([\"problem\", \"prompt\"])\n",
    "df = df.agg(c=(\"success_count\", np.sum), n=(\"count\", np.sum))\n",
    "df.reset_index(inplace=True)\n",
    "# Apply estimator to df[\"n\"] and df[\"c\"] to calculate df[\"pass1\"]\n",
    "df[\"pass1\"]  = df.apply(lambda row: passk(row[\"n\"], row[\"c\"], 1), axis=1)\n",
    "df.drop(columns=[\"c\", \"n\"], inplace=True)\n",
    "df.head()"
   ]
  },
  {
   "cell_type": "code",
   "execution_count": 4,
   "metadata": {},
   "outputs": [],
   "source": [
    "df.to_csv(\"../computed_data/allprompts_starcoderbase_pass1.csv\", index=False, quoting=csv.QUOTE_ALL)"
   ]
  },
  {
   "attachments": {},
   "cell_type": "markdown",
   "metadata": {},
   "source": [
    "Ensure we don't have quoting issues:"
   ]
  },
  {
   "cell_type": "code",
   "execution_count": 5,
   "metadata": {},
   "outputs": [
    {
     "data": {
      "text/html": [
       "<div>\n",
       "<style scoped>\n",
       "    .dataframe tbody tr th:only-of-type {\n",
       "        vertical-align: middle;\n",
       "    }\n",
       "\n",
       "    .dataframe tbody tr th {\n",
       "        vertical-align: top;\n",
       "    }\n",
       "\n",
       "    .dataframe thead th {\n",
       "        text-align: right;\n",
       "    }\n",
       "</style>\n",
       "<table border=\"1\" class=\"dataframe\">\n",
       "  <thead>\n",
       "    <tr style=\"text-align: right;\">\n",
       "      <th></th>\n",
       "      <th>problem</th>\n",
       "      <th>prompt</th>\n",
       "      <th>pass1</th>\n",
       "    </tr>\n",
       "  </thead>\n",
       "  <tbody>\n",
       "    <tr>\n",
       "      <th>0</th>\n",
       "      <td>add_int</td>\n",
       "      <td>def add_int(lst, num):\\n    \"\"\"\\n    Append th...</td>\n",
       "      <td>0.050</td>\n",
       "    </tr>\n",
       "    <tr>\n",
       "      <th>1</th>\n",
       "      <td>add_int</td>\n",
       "      <td>def add_int(lst, num):\\n    \"\"\"\\n    Create a ...</td>\n",
       "      <td>0.725</td>\n",
       "    </tr>\n",
       "    <tr>\n",
       "      <th>2</th>\n",
       "      <td>add_int</td>\n",
       "      <td>def add_int(lst, num):\\n    \"\"\"\\n    For each ...</td>\n",
       "      <td>0.375</td>\n",
       "    </tr>\n",
       "    <tr>\n",
       "      <th>3</th>\n",
       "      <td>add_int</td>\n",
       "      <td>def add_int(lst, num):\\n    \"\"\"\\n    Given a l...</td>\n",
       "      <td>0.020</td>\n",
       "    </tr>\n",
       "    <tr>\n",
       "      <th>4</th>\n",
       "      <td>add_int</td>\n",
       "      <td>def add_int(lst, num):\\n    \"\"\"\\n    Given a l...</td>\n",
       "      <td>0.070</td>\n",
       "    </tr>\n",
       "  </tbody>\n",
       "</table>\n",
       "</div>"
      ],
      "text/plain": [
       "   problem                                             prompt  pass1\n",
       "0  add_int  def add_int(lst, num):\\n    \"\"\"\\n    Append th...  0.050\n",
       "1  add_int  def add_int(lst, num):\\n    \"\"\"\\n    Create a ...  0.725\n",
       "2  add_int  def add_int(lst, num):\\n    \"\"\"\\n    For each ...  0.375\n",
       "3  add_int  def add_int(lst, num):\\n    \"\"\"\\n    Given a l...  0.020\n",
       "4  add_int  def add_int(lst, num):\\n    \"\"\"\\n    Given a l...  0.070"
      ]
     },
     "execution_count": 5,
     "metadata": {},
     "output_type": "execute_result"
    }
   ],
   "source": [
    "readback_df = pd.read_csv(\"../computed_data/allprompts_starcoderbase_pass1.csv\")\n",
    "readback_df.head()"
   ]
  }
 ],
 "metadata": {
  "kernelspec": {
   "display_name": "venv",
   "language": "python",
   "name": "python3"
  },
  "language_info": {
   "codemirror_mode": {
    "name": "ipython",
    "version": 3
   },
   "file_extension": ".py",
   "mimetype": "text/x-python",
   "name": "python",
   "nbconvert_exporter": "python",
   "pygments_lexer": "ipython3",
   "version": "3.10.6"
  },
  "orig_nbformat": 4
 },
 "nbformat": 4,
 "nbformat_minor": 2
}
